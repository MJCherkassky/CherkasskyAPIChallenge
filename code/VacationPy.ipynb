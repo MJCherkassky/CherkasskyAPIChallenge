{
 "cells": [
  {
   "cell_type": "markdown",
   "metadata": {},
   "source": [
    "# VacationPy"
   ]
  },
  {
   "cell_type": "code",
   "execution_count": 1,
   "metadata": {},
   "outputs": [],
   "source": [
    "# Dependencies and Setup\n",
    "import matplotlib.pyplot as plt\n",
    "import pandas as pd\n",
    "import numpy as np\n",
    "import requests\n",
    "import gmaps\n",
    "import os\n",
    "import json\n",
    "from pprint import pprint\n",
    "\n",
    "# Import API key\n",
    "from api_keys import g_key"
   ]
  },
  {
   "cell_type": "markdown",
   "metadata": {},
   "source": [
    "### Store Part I results into DataFrame\n",
    "* Load the csv exported in Part I to a DataFrame"
   ]
  },
  {
   "cell_type": "code",
   "execution_count": 2,
   "metadata": {},
   "outputs": [
    {
     "output_type": "execute_result",
     "data": {
      "text/plain": "           City  Cloudiness Country        Date  Humidity    Lat     Lng  \\\n0         ambon          40      ID  1587250250        88  -3.70  128.18   \n1       qaanaaq         100      GL  1587250113        88  77.48  -69.36   \n2        atuona          95      PF  1587250254        75  -9.80 -139.03   \n3  port hedland          98      CD  1587250297        60  -7.03   29.76   \n4       rikitea          42      PF  1587250251        70 -23.12 -134.97   \n\n   Max Temp  Wind Speed  \n0     78.80        6.93  \n1     21.69       19.26  \n2     82.00       17.60  \n3     73.72        3.42  \n4     77.41        5.93  ",
      "text/html": "<div>\n<style scoped>\n    .dataframe tbody tr th:only-of-type {\n        vertical-align: middle;\n    }\n\n    .dataframe tbody tr th {\n        vertical-align: top;\n    }\n\n    .dataframe thead th {\n        text-align: right;\n    }\n</style>\n<table border=\"1\" class=\"dataframe\">\n  <thead>\n    <tr style=\"text-align: right;\">\n      <th></th>\n      <th>City</th>\n      <th>Cloudiness</th>\n      <th>Country</th>\n      <th>Date</th>\n      <th>Humidity</th>\n      <th>Lat</th>\n      <th>Lng</th>\n      <th>Max Temp</th>\n      <th>Wind Speed</th>\n    </tr>\n  </thead>\n  <tbody>\n    <tr>\n      <th>0</th>\n      <td>ambon</td>\n      <td>40</td>\n      <td>ID</td>\n      <td>1587250250</td>\n      <td>88</td>\n      <td>-3.70</td>\n      <td>128.18</td>\n      <td>78.80</td>\n      <td>6.93</td>\n    </tr>\n    <tr>\n      <th>1</th>\n      <td>qaanaaq</td>\n      <td>100</td>\n      <td>GL</td>\n      <td>1587250113</td>\n      <td>88</td>\n      <td>77.48</td>\n      <td>-69.36</td>\n      <td>21.69</td>\n      <td>19.26</td>\n    </tr>\n    <tr>\n      <th>2</th>\n      <td>atuona</td>\n      <td>95</td>\n      <td>PF</td>\n      <td>1587250254</td>\n      <td>75</td>\n      <td>-9.80</td>\n      <td>-139.03</td>\n      <td>82.00</td>\n      <td>17.60</td>\n    </tr>\n    <tr>\n      <th>3</th>\n      <td>port hedland</td>\n      <td>98</td>\n      <td>CD</td>\n      <td>1587250297</td>\n      <td>60</td>\n      <td>-7.03</td>\n      <td>29.76</td>\n      <td>73.72</td>\n      <td>3.42</td>\n    </tr>\n    <tr>\n      <th>4</th>\n      <td>rikitea</td>\n      <td>42</td>\n      <td>PF</td>\n      <td>1587250251</td>\n      <td>70</td>\n      <td>-23.12</td>\n      <td>-134.97</td>\n      <td>77.41</td>\n      <td>5.93</td>\n    </tr>\n  </tbody>\n</table>\n</div>"
     },
     "metadata": {},
     "execution_count": 2
    }
   ],
   "source": [
    "output_data_file = \"../output_data/WeatherPyData.csv\"\n",
    "# output_data_file\n",
    "\n",
    "weatherdata_df = pd.read_csv(output_data_file)\n",
    "weatherdata_df.head()\n",
    "# weather_data_df.head()\n",
    "# weather_data_df"
   ]
  },
  {
   "cell_type": "markdown",
   "metadata": {},
   "source": [
    "### Humidity Heatmap\n",
    "* Configure gmaps.\n",
    "* Use the Lat and Lng as locations and Humidity as the weight.\n",
    "* Add Heatmap layer to map."
   ]
  },
  {
   "cell_type": "code",
   "execution_count": 3,
   "metadata": {},
   "outputs": [
    {
     "output_type": "display_data",
     "data": {
      "text/plain": "Figure(layout=FigureLayout(height='420px'))",
      "application/vnd.jupyter.widget-view+json": {
       "version_major": 2,
       "version_minor": 0,
       "model_id": "8a9c3eec9477404ab2e940287c05a10c"
      }
     },
     "metadata": {}
    }
   ],
   "source": [
    "gmaps.configure(api_key = g_key)\n",
    "locations=weatherdata_df[[\"Lat\",\"Lng\"]]\n",
    "humidity = weatherdata_df.Humidity.astype(float)\n",
    "\n",
    "fig=gmaps.figure()\n",
    "\n",
    "heatmap_layer=gmaps.heatmap_layer(locations, weights=humidity, dissipating = False, max_intensity=5, point_radius=1)\n",
    "fig.add_layer(heatmap_layer)\n",
    "fig.show()"
   ]
  },
  {
   "cell_type": "markdown",
   "metadata": {},
   "source": [
    "### Create new DataFrame fitting weather criteria\n",
    "* Narrow down the cities to fit weather conditions.\n",
    "* Drop any rows will null values."
   ]
  },
  {
   "cell_type": "code",
   "execution_count": 4,
   "metadata": {},
   "outputs": [
    {
     "output_type": "execute_result",
     "data": {
      "text/plain": "          City  Max Temp  Wind Speed  Cloudiness\n321  morondava     76.55        5.97           0\n345    chimore     71.51        2.01           0\n368  thayetmyo     75.52        2.80           0",
      "text/html": "<div>\n<style scoped>\n    .dataframe tbody tr th:only-of-type {\n        vertical-align: middle;\n    }\n\n    .dataframe tbody tr th {\n        vertical-align: top;\n    }\n\n    .dataframe thead th {\n        text-align: right;\n    }\n</style>\n<table border=\"1\" class=\"dataframe\">\n  <thead>\n    <tr style=\"text-align: right;\">\n      <th></th>\n      <th>City</th>\n      <th>Max Temp</th>\n      <th>Wind Speed</th>\n      <th>Cloudiness</th>\n    </tr>\n  </thead>\n  <tbody>\n    <tr>\n      <th>321</th>\n      <td>morondava</td>\n      <td>76.55</td>\n      <td>5.97</td>\n      <td>0</td>\n    </tr>\n    <tr>\n      <th>345</th>\n      <td>chimore</td>\n      <td>71.51</td>\n      <td>2.01</td>\n      <td>0</td>\n    </tr>\n    <tr>\n      <th>368</th>\n      <td>thayetmyo</td>\n      <td>75.52</td>\n      <td>2.80</td>\n      <td>0</td>\n    </tr>\n  </tbody>\n</table>\n</div>"
     },
     "metadata": {},
     "execution_count": 4
    }
   ],
   "source": [
    "# A max temperature lower than 80 degrees but higher than 70.\n",
    "# Wind speed less than 10 mph.\n",
    "# Zero cloudiness.\n",
    "# Drop any rows that don't contain all three conditions. \n",
    "# You want to be sure the weather is ideal\n",
    "\n",
    "new_df = pd.DataFrame(weatherdata_df, columns = [\"City\", \"Max Temp\", \"Wind Speed\", \"Cloudiness\"])\n",
    "\n",
    "max_temp = (new_df[\"Max Temp\"] <= 80) & (new_df[\"Max Temp\"] > 70)\n",
    "wind_speed = new_df[\"Wind Speed\"] < 10\n",
    "cloudiness = new_df[\"Cloudiness\"] == 0\n",
    "\n",
    "# new_types_df[max_temp & wind_speed & cloudiness]\n",
    "new_df[max_temp & wind_speed & cloudiness]"
   ]
  },
  {
   "cell_type": "markdown",
   "metadata": {},
   "source": [
    "### Hotel Map\n",
    "* Set parameters to search for hotels with 5000 meters.\n",
    "* Hit the Google Places API for each city's coordinates.\n",
    "* Store the first Hotel result into the DataFrame.\n"
   ]
  },
  {
   "cell_type": "code",
   "execution_count": 5,
   "metadata": {},
   "outputs": [
    {
     "output_type": "execute_result",
     "data": {
      "text/plain": "             City Country    Lat     Lng Hotel Name\n0           ambon      ID  -3.70  128.18           \n1         qaanaaq      GL  77.48  -69.36           \n2          atuona      PF  -9.80 -139.03           \n3    port hedland      CD  -7.03   29.76           \n4         rikitea      PF -23.12 -134.97           \n..            ...     ...    ...     ...        ...\n519     kisangani      CD   0.52   25.20           \n520    miles city      US  35.19 -120.70           \n521        valsad      IN  20.63   72.93           \n522       waipawa      NZ -41.41  175.52           \n523     pringsewu      ID  -5.36  104.97           \n\n[524 rows x 5 columns]",
      "text/html": "<div>\n<style scoped>\n    .dataframe tbody tr th:only-of-type {\n        vertical-align: middle;\n    }\n\n    .dataframe tbody tr th {\n        vertical-align: top;\n    }\n\n    .dataframe thead th {\n        text-align: right;\n    }\n</style>\n<table border=\"1\" class=\"dataframe\">\n  <thead>\n    <tr style=\"text-align: right;\">\n      <th></th>\n      <th>City</th>\n      <th>Country</th>\n      <th>Lat</th>\n      <th>Lng</th>\n      <th>Hotel Name</th>\n    </tr>\n  </thead>\n  <tbody>\n    <tr>\n      <th>0</th>\n      <td>ambon</td>\n      <td>ID</td>\n      <td>-3.70</td>\n      <td>128.18</td>\n      <td></td>\n    </tr>\n    <tr>\n      <th>1</th>\n      <td>qaanaaq</td>\n      <td>GL</td>\n      <td>77.48</td>\n      <td>-69.36</td>\n      <td></td>\n    </tr>\n    <tr>\n      <th>2</th>\n      <td>atuona</td>\n      <td>PF</td>\n      <td>-9.80</td>\n      <td>-139.03</td>\n      <td></td>\n    </tr>\n    <tr>\n      <th>3</th>\n      <td>port hedland</td>\n      <td>CD</td>\n      <td>-7.03</td>\n      <td>29.76</td>\n      <td></td>\n    </tr>\n    <tr>\n      <th>4</th>\n      <td>rikitea</td>\n      <td>PF</td>\n      <td>-23.12</td>\n      <td>-134.97</td>\n      <td></td>\n    </tr>\n    <tr>\n      <th>...</th>\n      <td>...</td>\n      <td>...</td>\n      <td>...</td>\n      <td>...</td>\n      <td>...</td>\n    </tr>\n    <tr>\n      <th>519</th>\n      <td>kisangani</td>\n      <td>CD</td>\n      <td>0.52</td>\n      <td>25.20</td>\n      <td></td>\n    </tr>\n    <tr>\n      <th>520</th>\n      <td>miles city</td>\n      <td>US</td>\n      <td>35.19</td>\n      <td>-120.70</td>\n      <td></td>\n    </tr>\n    <tr>\n      <th>521</th>\n      <td>valsad</td>\n      <td>IN</td>\n      <td>20.63</td>\n      <td>72.93</td>\n      <td></td>\n    </tr>\n    <tr>\n      <th>522</th>\n      <td>waipawa</td>\n      <td>NZ</td>\n      <td>-41.41</td>\n      <td>175.52</td>\n      <td></td>\n    </tr>\n    <tr>\n      <th>523</th>\n      <td>pringsewu</td>\n      <td>ID</td>\n      <td>-5.36</td>\n      <td>104.97</td>\n      <td></td>\n    </tr>\n  </tbody>\n</table>\n<p>524 rows × 5 columns</p>\n</div>"
     },
     "metadata": {},
     "execution_count": 5
    }
   ],
   "source": [
    "hotel_df = pd.DataFrame(weatherdata_df, columns=[\"City\", \"Country\", \"Lat\", \"Lng\"])\n",
    "hotel_df[\"Hotel Name\"] = \"\"\n",
    "hotel_df"
   ]
  },
  {
   "cell_type": "code",
   "execution_count": 6,
   "metadata": {},
   "outputs": [],
   "source": [
    "target_coordinates = f\"{hotel_df['Lat'][0]},{hotel_df['Lng'][0]}\"\n",
    "target_search = \"hotel\"\n",
    "target_radius = 5000\n",
    "target_type = \"hotel\"\n",
    "\n",
    "# set up a parameters dictionary\n",
    "params = {\n",
    "    \"location\": target_coordinates,\n",
    "    \"keyword\": target_search,\n",
    "    \"radius\": target_radius,\n",
    "    \"type\": target_type,\n",
    "    \"key\": g_key\n",
    "}\n",
    "\n",
    "# base url\n",
    "base_url = \"https://maps.googleapis.com/maps/api/place/nearbysearch/json\"\n",
    "\n",
    "# run a request using our params dictionary\n",
    "response = requests.get(base_url, params=params)"
   ]
  },
  {
   "cell_type": "code",
   "execution_count": 7,
   "metadata": {},
   "outputs": [
    {
     "output_type": "stream",
     "name": "stdout",
     "text": "{'html_attributions': [],\n 'next_page_token': 'CrQCIQEAABzG03t1MnEQSqPPzUCLM4mN6VE_URUPwBGMJWdx_r0zmxmV0H0XYBOu0ywWRyqzBBBkoFCkKodtylziAykgfx_CMQMaeMBxKOLNJwbDgivQ0knwlTADiLH9L7TkprmgDqJzvJuN82rTxs6xRnhqenZlKzgmqkUQN8vi5Z0F-EfdM9z4u1TqC2FCeDf8ejWczzieym6M8l1IM4gla9ow3VT5EwsKA-EddSGM3qxST8qxfPsAtCHT_Ib1osRubLLv-QVzqTwT6NWclnSuB3LyfI4uArjfiUw6gd0_WU2DJWY3qz9k_xJ0pHQ6JgT3Y85CqJr60LDwfhjVrepw283RPFI8mWRik9fg4aOmNvvyQOXL4izJ6P9a2ZejEEj5NT_h47UiVhsWJLCpRa0Fi9ohkt4SEPGD_o0jwrnsQAi2iOpHd0waFHp5Lg1ffVmuxv-RBVp_4PrQeO1N',\n 'results': [...],\n 'status': 'OK'}\n"
    }
   ],
   "source": [
    "pprint(response.json(), depth=1)\n",
    ""
   ]
  },
  {
   "cell_type": "code",
   "execution_count": 9,
   "metadata": {},
   "outputs": [],
   "source": [
    "# NOTE: Do not change any of the code in this cell\n",
    "\n",
    "# Using the template add the hotel marks to the heatmap\n",
    "info_box_template = \"\"\"\n",
    "<dl>\n",
    "<dt>Name</dt><dd>{Hotel Name}</dd>\n",
    "<dt>City</dt><dd>{City}</dd>\n",
    "<dt>Country</dt><dd>{Country}</dd>\n",
    "</dl>\n",
    "\"\"\"\n",
    "# Store the DataFrame Row\n",
    "# NOTE: be sure to update with your DataFrame name\n",
    "hotel_info = [info_box_template.format(**row) for index, row in hotel_df.iterrows()]\n",
    "locations = hotel_df[[\"Lat\", \"Lng\"]]"
   ]
  },
  {
   "cell_type": "code",
   "execution_count": 10,
   "metadata": {},
   "outputs": [],
   "source": [
    "#creates a list to capture hotel_names to insert into dataframe\n",
    "hotel_name = []\n",
    "\n",
    "# params dictionary to update each iteration\n",
    "params = {\n",
    "    \"radius\": 5000,\n",
    "    \"types\": \"hotel\",\n",
    "    \"keyword\": \"hotel\",\n",
    "    \"key\": g_key\n",
    "}\n",
    "\n",
    "for index, row in hotel_df.iterrows():\n",
    "    # get lat, lng from df\n",
    "    lat = row[\"Lat\"]\n",
    "    lng = row[\"Lng\"]\n",
    "\n",
    "    # change location each iteration while leaving original params in place\n",
    "    params[\"location\"] = f\"{lat},{lng}\"\n",
    "\n",
    "    base_url = \"https://maps.googleapis.com/maps/api/place/nearbysearch/json\"\n",
    "\n",
    "    # make request and print url\n",
    "    name_address = requests.get(base_url, params=params)\n",
    "    \n",
    "    # convert to json\n",
    "    name_address = name_address.json()\n",
    "    # print(json.dumps(name_address, indent=4, sort_keys=True))\n",
    "    try:\n",
    "#         hotel_df.iloc[index, 4] = name_address['results'][0]['name']\n",
    "        hotel_name.append(name_address['results'][0]['name'])\n",
    "    except IndexError:\n",
    "        hotel_name.append(np.nan)"
   ]
  },
  {
   "cell_type": "code",
   "execution_count": 14,
   "metadata": {},
   "outputs": [],
   "source": [
    "hotel_df['Hotel Name']= hotel_name\n",
    "hotel_df.dropna()\n",
    "hotel_df.to_csv(\"../output_data/VacationPyExport.csv\")"
   ]
  },
  {
   "cell_type": "code",
   "execution_count": 15,
   "metadata": {},
   "outputs": [
    {
     "output_type": "display_data",
     "data": {
      "text/plain": "Figure(layout=FigureLayout(height='420px'))",
      "application/vnd.jupyter.widget-view+json": {
       "version_major": 2,
       "version_minor": 0,
       "model_id": "8a9c3eec9477404ab2e940287c05a10c"
      }
     },
     "metadata": {}
    }
   ],
   "source": [
    "# Add marker layer ontop of heat map\n",
    "markers = gmaps.marker_layer(locations)\n",
    "fig.add_layer(markers)\n",
    "fig.show()\n",
    "\n",
    "# Display Map"
   ]
  },
  {
   "cell_type": "code",
   "execution_count": null,
   "metadata": {},
   "outputs": [],
   "source": []
  }
 ],
 "metadata": {
  "kernelspec": {
   "display_name": "Python 3",
   "language": "python",
   "name": "python3"
  },
  "language_info": {
   "codemirror_mode": {
    "name": "ipython",
    "version": 3
   },
   "file_extension": ".py",
   "mimetype": "text/x-python",
   "name": "python",
   "nbconvert_exporter": "python",
   "pygments_lexer": "ipython3",
   "version": "3.7.4-final"
  },
  "latex_envs": {
   "LaTeX_envs_menu_present": true,
   "autoclose": false,
   "autocomplete": true,
   "bibliofile": "biblio.bib",
   "cite_by": "apalike",
   "current_citInitial": 1,
   "eqLabelWithNumbers": true,
   "eqNumInitial": 1,
   "hotkeys": {
    "equation": "Ctrl-E",
    "itemize": "Ctrl-I"
   },
   "labels_anchors": false,
   "latex_user_defs": false,
   "report_style_numbering": false,
   "user_envs_cfg": false
  }
 },
 "nbformat": 4,
 "nbformat_minor": 2
}